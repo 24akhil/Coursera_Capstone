{
 "cells": [
  {
   "cell_type": "markdown",
   "metadata": {},
   "source": [
    "Neighborhoods in Toronto"
   ]
  },
  {
   "cell_type": "markdown",
   "metadata": {},
   "source": [
    "Importing important libraries for data wrangling and analysis"
   ]
  },
  {
   "cell_type": "code",
   "execution_count": 2,
   "metadata": {},
   "outputs": [
    {
     "name": "stdout",
     "output_type": "stream",
     "text": [
      "Libraries imported.\n"
     ]
    }
   ],
   "source": [
    "import numpy as np # library to handle data in a vectorized manner\n",
    "\n",
    "import pandas as pd # library for data analsysis\n",
    "pd.set_option('display.max_columns', None)\n",
    "pd.set_option('display.max_rows', None)\n",
    "\n",
    "import json # library to handle JSON files\n",
    "\n",
    "#!conda install -c conda-forge geopy --yes # uncomment this line if you haven't completed the Foursquare API lab\n",
    "from geopy.geocoders import Nominatim # convert an address into latitude and longitude values\n",
    "\n",
    "import requests # library to handle requests\n",
    "from pandas.io.json import json_normalize # tranform JSON file into a pandas dataframe\n",
    "\n",
    "# Matplotlib and associated plotting modules\n",
    "import matplotlib.cm as cm\n",
    "import matplotlib.colors as colors\n",
    "\n",
    "# import k-means from clustering stage\n",
    "from sklearn.cluster import KMeans\n",
    "\n",
    "#!conda install -c conda-forge folium=0.5.0 --yes # uncomment this line if you haven't completed the Foursquare API lab\n",
    "import folium # map rendering library\n",
    "\n",
    "print('Libraries imported.')"
   ]
  },
  {
   "cell_type": "code",
   "execution_count": 2,
   "metadata": {},
   "outputs": [
    {
     "name": "stdout",
     "output_type": "stream",
     "text": [
      "Data downloaded!\n"
     ]
    }
   ],
   "source": [
    "!wget -q -O tornato_data.html https://en.wikipedia.org/wiki/List_of_postal_codes_of_Canada:_M\n",
    "print('Data downloaded!')"
   ]
  },
  {
   "cell_type": "code",
   "execution_count": 3,
   "metadata": {},
   "outputs": [],
   "source": [
    "df=pd.read_html('tornato_data.html')"
   ]
  },
  {
   "cell_type": "code",
   "execution_count": 23,
   "metadata": {
    "collapsed": true,
    "jupyter": {
     "outputs_hidden": true
    }
   },
   "outputs": [
    {
     "data": {
      "text/html": [
       "<div>\n",
       "<style scoped>\n",
       "    .dataframe tbody tr th:only-of-type {\n",
       "        vertical-align: middle;\n",
       "    }\n",
       "\n",
       "    .dataframe tbody tr th {\n",
       "        vertical-align: top;\n",
       "    }\n",
       "\n",
       "    .dataframe thead th {\n",
       "        text-align: right;\n",
       "    }\n",
       "</style>\n",
       "<table border=\"1\" class=\"dataframe\">\n",
       "  <thead>\n",
       "    <tr style=\"text-align: right;\">\n",
       "      <th></th>\n",
       "      <th>Postal code</th>\n",
       "      <th>Borough</th>\n",
       "      <th>Neighborhood</th>\n",
       "    </tr>\n",
       "  </thead>\n",
       "  <tbody>\n",
       "    <tr>\n",
       "      <td>2</td>\n",
       "      <td>M3A</td>\n",
       "      <td>North York</td>\n",
       "      <td>Parkwoods</td>\n",
       "    </tr>\n",
       "    <tr>\n",
       "      <td>3</td>\n",
       "      <td>M4A</td>\n",
       "      <td>North York</td>\n",
       "      <td>Victoria Village</td>\n",
       "    </tr>\n",
       "    <tr>\n",
       "      <td>4</td>\n",
       "      <td>M5A</td>\n",
       "      <td>Downtown Toronto</td>\n",
       "      <td>Regent Park / Harbourfront</td>\n",
       "    </tr>\n",
       "    <tr>\n",
       "      <td>5</td>\n",
       "      <td>M6A</td>\n",
       "      <td>North York</td>\n",
       "      <td>Lawrence Manor / Lawrence Heights</td>\n",
       "    </tr>\n",
       "    <tr>\n",
       "      <td>6</td>\n",
       "      <td>M7A</td>\n",
       "      <td>Downtown Toronto</td>\n",
       "      <td>Queen's Park / Ontario Provincial Government</td>\n",
       "    </tr>\n",
       "    <tr>\n",
       "      <td>8</td>\n",
       "      <td>M9A</td>\n",
       "      <td>Etobicoke</td>\n",
       "      <td>Islington Avenue</td>\n",
       "    </tr>\n",
       "    <tr>\n",
       "      <td>9</td>\n",
       "      <td>M1B</td>\n",
       "      <td>Scarborough</td>\n",
       "      <td>Malvern / Rouge</td>\n",
       "    </tr>\n",
       "    <tr>\n",
       "      <td>11</td>\n",
       "      <td>M3B</td>\n",
       "      <td>North York</td>\n",
       "      <td>Don Mills</td>\n",
       "    </tr>\n",
       "    <tr>\n",
       "      <td>12</td>\n",
       "      <td>M4B</td>\n",
       "      <td>East York</td>\n",
       "      <td>Parkview Hill / Woodbine Gardens</td>\n",
       "    </tr>\n",
       "    <tr>\n",
       "      <td>13</td>\n",
       "      <td>M5B</td>\n",
       "      <td>Downtown Toronto</td>\n",
       "      <td>Garden District, Ryerson</td>\n",
       "    </tr>\n",
       "    <tr>\n",
       "      <td>14</td>\n",
       "      <td>M6B</td>\n",
       "      <td>North York</td>\n",
       "      <td>Glencairn</td>\n",
       "    </tr>\n",
       "    <tr>\n",
       "      <td>17</td>\n",
       "      <td>M9B</td>\n",
       "      <td>Etobicoke</td>\n",
       "      <td>West Deane Park / Princess Gardens / Martin Gr...</td>\n",
       "    </tr>\n",
       "    <tr>\n",
       "      <td>18</td>\n",
       "      <td>M1C</td>\n",
       "      <td>Scarborough</td>\n",
       "      <td>Rouge Hill / Port Union / Highland Creek</td>\n",
       "    </tr>\n",
       "    <tr>\n",
       "      <td>20</td>\n",
       "      <td>M3C</td>\n",
       "      <td>North York</td>\n",
       "      <td>Don Mills</td>\n",
       "    </tr>\n",
       "    <tr>\n",
       "      <td>21</td>\n",
       "      <td>M4C</td>\n",
       "      <td>East York</td>\n",
       "      <td>Woodbine Heights</td>\n",
       "    </tr>\n",
       "    <tr>\n",
       "      <td>22</td>\n",
       "      <td>M5C</td>\n",
       "      <td>Downtown Toronto</td>\n",
       "      <td>St. James Town</td>\n",
       "    </tr>\n",
       "    <tr>\n",
       "      <td>23</td>\n",
       "      <td>M6C</td>\n",
       "      <td>York</td>\n",
       "      <td>Humewood-Cedarvale</td>\n",
       "    </tr>\n",
       "    <tr>\n",
       "      <td>26</td>\n",
       "      <td>M9C</td>\n",
       "      <td>Etobicoke</td>\n",
       "      <td>Eringate / Bloordale Gardens / Old Burnhamthor...</td>\n",
       "    </tr>\n",
       "    <tr>\n",
       "      <td>27</td>\n",
       "      <td>M1E</td>\n",
       "      <td>Scarborough</td>\n",
       "      <td>Guildwood / Morningside / West Hill</td>\n",
       "    </tr>\n",
       "    <tr>\n",
       "      <td>30</td>\n",
       "      <td>M4E</td>\n",
       "      <td>East Toronto</td>\n",
       "      <td>The Beaches</td>\n",
       "    </tr>\n",
       "  </tbody>\n",
       "</table>\n",
       "</div>"
      ],
      "text/plain": [
       "   Postal code           Borough  \\\n",
       "2          M3A        North York   \n",
       "3          M4A        North York   \n",
       "4          M5A  Downtown Toronto   \n",
       "5          M6A        North York   \n",
       "6          M7A  Downtown Toronto   \n",
       "8          M9A         Etobicoke   \n",
       "9          M1B       Scarborough   \n",
       "11         M3B        North York   \n",
       "12         M4B         East York   \n",
       "13         M5B  Downtown Toronto   \n",
       "14         M6B        North York   \n",
       "17         M9B         Etobicoke   \n",
       "18         M1C       Scarborough   \n",
       "20         M3C        North York   \n",
       "21         M4C         East York   \n",
       "22         M5C  Downtown Toronto   \n",
       "23         M6C              York   \n",
       "26         M9C         Etobicoke   \n",
       "27         M1E       Scarborough   \n",
       "30         M4E      East Toronto   \n",
       "\n",
       "                                         Neighborhood  \n",
       "2                                           Parkwoods  \n",
       "3                                    Victoria Village  \n",
       "4                          Regent Park / Harbourfront  \n",
       "5                   Lawrence Manor / Lawrence Heights  \n",
       "6        Queen's Park / Ontario Provincial Government  \n",
       "8                                    Islington Avenue  \n",
       "9                                     Malvern / Rouge  \n",
       "11                                          Don Mills  \n",
       "12                   Parkview Hill / Woodbine Gardens  \n",
       "13                           Garden District, Ryerson  \n",
       "14                                          Glencairn  \n",
       "17  West Deane Park / Princess Gardens / Martin Gr...  \n",
       "18           Rouge Hill / Port Union / Highland Creek  \n",
       "20                                          Don Mills  \n",
       "21                                   Woodbine Heights  \n",
       "22                                     St. James Town  \n",
       "23                                 Humewood-Cedarvale  \n",
       "26  Eringate / Bloordale Gardens / Old Burnhamthor...  \n",
       "27                Guildwood / Morningside / West Hill  \n",
       "30                                        The Beaches  "
      ]
     },
     "execution_count": 23,
     "metadata": {},
     "output_type": "execute_result"
    }
   ],
   "source": [
    "# dftable = df[0]\n",
    "dftable.head(20)"
   ]
  },
  {
   "cell_type": "markdown",
   "metadata": {},
   "source": [
    "Checking Not assigned neighbourhood"
   ]
  },
  {
   "cell_type": "code",
   "execution_count": 20,
   "metadata": {},
   "outputs": [
    {
     "name": "stdout",
     "output_type": "stream",
     "text": [
      "The Beaches East Toronto\n"
     ]
    }
   ],
   "source": [
    "for i,col in dftable.iterrows():\n",
    "    if col.Neighborhood =='Not assigned':\n",
    "        print(col.Neighborhood,col.Borough);"
   ]
  },
  {
   "cell_type": "code",
   "execution_count": 21,
   "metadata": {},
   "outputs": [
    {
     "data": {
      "text/plain": [
       "(103, 3)"
      ]
     },
     "execution_count": 21,
     "metadata": {},
     "output_type": "execute_result"
    }
   ],
   "source": [
    "dftable.shape"
   ]
  },
  {
   "cell_type": "code",
   "execution_count": 18,
   "metadata": {
    "collapsed": true,
    "jupyter": {
     "outputs_hidden": true
    }
   },
   "outputs": [
    {
     "data": {
      "text/plain": [
       "Downsview                                                                                                                                        4\n",
       "Willowdale                                                                                                                                       2\n",
       "Don Mills                                                                                                                                        2\n",
       "Thorncliffe Park                                                                                                                                 1\n",
       "Summerhill West / Rathnelly / South Hill / Forest Hill SE / Deer Park                                                                            1\n",
       "Forest Hill North & West                                                                                                                         1\n",
       "Milliken / Agincourt North / Steeles East / L'Amoreaux East                                                                                      1\n",
       "Mimico NW / The Queensway West / South of Bloor / Kingsway Park South West / Royal York South West                                               1\n",
       "Old Mill South / King's Mill Park / Sunnylea / Humber Bay / Mimico NE / The Queensway East / Royal York South East / Kingsway Park South East    1\n",
       "North Park / Maple Leaf Park / Upwood Park                                                                                                       1\n",
       "Kingsview Village / St. Phillips / Martin Grove Gardens / Richview Gardens                                                                       1\n",
       "Upper Rouge                                                                                                                                      1\n",
       "The Kingsway / Montgomery Road / Old Mill North                                                                                                  1\n",
       "Commerce Court / Victoria Hotel                                                                                                                  1\n",
       "Victoria Village                                                                                                                                 1\n",
       "York Mills / Silver Hills                                                                                                                        1\n",
       "Moore Park / Summerhill East                                                                                                                     1\n",
       "Toronto Dominion Centre / Design Exchange                                                                                                        1\n",
       "Dorset Park / Wexford Heights / Scarborough Town Centre                                                                                          1\n",
       "Westmount                                                                                                                                        1\n",
       "Bayview Village                                                                                                                                  1\n",
       "Richmond / Adelaide / King                                                                                                                       1\n",
       "Agincourt                                                                                                                                        1\n",
       "Queen's Park / Ontario Provincial Government                                                                                                     1\n",
       "Hillcrest Village                                                                                                                                1\n",
       "Kennedy Park / Ionview / East Birchmount Park                                                                                                    1\n",
       "Rosedale                                                                                                                                         1\n",
       "The Annex / North Midtown / Yorkville                                                                                                            1\n",
       "Bedford Park / Lawrence Manor East                                                                                                               1\n",
       "Humberlea / Emery                                                                                                                                1\n",
       "Cliffside / Cliffcrest / Scarborough Village West                                                                                                1\n",
       "Davisville                                                                                                                                       1\n",
       "Woodbine Heights                                                                                                                                 1\n",
       "Northwood Park / York University                                                                                                                 1\n",
       "Bathurst Manor / Wilson Heights / Downsview North                                                                                                1\n",
       "Dufferin / Dovercourt Village                                                                                                                    1\n",
       "Leaside                                                                                                                                          1\n",
       "Caledonia-Fairbanks                                                                                                                              1\n",
       "East Toronto                                                                                                                                     1\n",
       "Little Portugal / Trinity                                                                                                                        1\n",
       "Lawrence Manor / Lawrence Heights                                                                                                                1\n",
       "Brockton / Parkdale Village / Exhibition Place                                                                                                   1\n",
       "Parkwoods                                                                                                                                        1\n",
       "Malvern / Rouge                                                                                                                                  1\n",
       "Steeles West / L'Amoreaux West                                                                                                                   1\n",
       "Glencairn                                                                                                                                        1\n",
       "The Danforth West / Riverdale                                                                                                                    1\n",
       "Harbourfront East / Union Station / Toronto Islands                                                                                              1\n",
       "York Mills West                                                                                                                                  1\n",
       "Christie                                                                                                                                         1\n",
       "India Bazaar / The Beaches West                                                                                                                  1\n",
       "Regent Park / Harbourfront                                                                                                                       1\n",
       "Fairview / Henry Farm / Oriole                                                                                                                   1\n",
       "Wexford / Maryvale                                                                                                                               1\n",
       "West Deane Park / Princess Gardens / Martin Grove / Islington / Cloverdale                                                                       1\n",
       "Business reply mail Processing CentrE                                                                                                            1\n",
       "Studio District                                                                                                                                  1\n",
       "Kensington Market / Chinatown / Grange Park                                                                                                      1\n",
       "Parkdale / Roncesvalles                                                                                                                          1\n",
       "Humber Summit                                                                                                                                    1\n",
       "Roselawn                                                                                                                                         1\n",
       "Birch Cliff / Cliffside West                                                                                                                     1\n",
       "Golden Mile / Clairlea / Oakridge                                                                                                                1\n",
       "North Toronto West                                                                                                                               1\n",
       "High Park / The Junction South                                                                                                                   1\n",
       "Humewood-Cedarvale                                                                                                                               1\n",
       "Weston                                                                                                                                           1\n",
       "Berczy Park                                                                                                                                      1\n",
       "Runnymede / The Junction North                                                                                                                   1\n",
       "The Beaches                                                                                                                                      1\n",
       "CN Tower / King and Spadina / Railway Lands / Harbourfront West / Bathurst Quay / South Niagara / Island airport                                 1\n",
       "Cedarbrae                                                                                                                                        1\n",
       "Rouge Hill / Port Union / Highland Creek                                                                                                         1\n",
       "Guildwood / Morningside / West Hill                                                                                                              1\n",
       "South Steeles / Silverstone / Humbergate / Jamestown / Mount Olive / Beaumond Heights / Thistletown / Albion Gardens                             1\n",
       "St. James Town                                                                                                                                   1\n",
       "Clarks Corners / Tam O'Shanter / Sullivan                                                                                                        1\n",
       "St. James Town / Cabbagetown                                                                                                                     1\n",
       "Parkview Hill / Woodbine Gardens                                                                                                                 1\n",
       "University of Toronto / Harbord                                                                                                                  1\n",
       "Woburn                                                                                                                                           1\n",
       "Willowdale / Newtonbrook                                                                                                                         1\n",
       "Eringate / Bloordale Gardens / Old Burnhamthorpe / Markland Wood                                                                                 1\n",
       "Northwest                                                                                                                                        1\n",
       "Islington Avenue                                                                                                                                 1\n",
       "New Toronto / Mimico South / Humber Bay Shores                                                                                                   1\n",
       "Scarborough Village                                                                                                                              1\n",
       "Runnymede / Swansea                                                                                                                              1\n",
       "Canada Post Gateway Processing Centre                                                                                                            1\n",
       "Alderwood / Long Branch                                                                                                                          1\n",
       "First Canadian Place / Underground city                                                                                                          1\n",
       "Stn A PO Boxes                                                                                                                                   1\n",
       "Central Bay Street                                                                                                                               1\n",
       "Church and Wellesley                                                                                                                             1\n",
       "Lawrence Park                                                                                                                                    1\n",
       "Garden District, Ryerson                                                                                                                         1\n",
       "Del Ray / Mount Dennis / Keelsdale and Silverthorn                                                                                               1\n",
       "Davisville North                                                                                                                                 1\n",
       "Name: Neighborhood, dtype: int64"
      ]
     },
     "execution_count": 18,
     "metadata": {},
     "output_type": "execute_result"
    }
   ],
   "source": [
    "dftable.Neighborhood.value_counts()"
   ]
  },
  {
   "cell_type": "markdown",
   "metadata": {},
   "source": [
    "Dropping records which has Borough as Not assigned"
   ]
  },
  {
   "cell_type": "code",
   "execution_count": 15,
   "metadata": {},
   "outputs": [],
   "source": [
    "dftable.drop(dftable[dftable['Borough'] == 'Not assigned'].index, inplace = True) "
   ]
  },
  {
   "cell_type": "code",
   "execution_count": 22,
   "metadata": {},
   "outputs": [
    {
     "data": {
      "text/plain": [
       "North York          24\n",
       "Downtown Toronto    19\n",
       "Scarborough         17\n",
       "Etobicoke           12\n",
       "Central Toronto      9\n",
       "West Toronto         6\n",
       "East Toronto         5\n",
       "York                 5\n",
       "East York            5\n",
       "Mississauga          1\n",
       "Name: Borough, dtype: int64"
      ]
     },
     "execution_count": 22,
     "metadata": {},
     "output_type": "execute_result"
    }
   ],
   "source": [
    "dftable.Borough.value_counts()"
   ]
  },
  {
   "cell_type": "markdown",
   "metadata": {},
   "source": [
    "Checking for duplicate Postal Code. Surprisingly we don't have any repetition."
   ]
  },
  {
   "cell_type": "code",
   "execution_count": 27,
   "metadata": {
    "collapsed": true,
    "jupyter": {
     "outputs_hidden": true
    }
   },
   "outputs": [
    {
     "data": {
      "text/plain": [
       "M4E    1\n",
       "M1N    1\n",
       "M4M    1\n",
       "M9R    1\n",
       "M2H    1\n",
       "M5A    1\n",
       "M2K    1\n",
       "M9P    1\n",
       "M3J    1\n",
       "M8Z    1\n",
       "M1P    1\n",
       "M1M    1\n",
       "M5M    1\n",
       "M9V    1\n",
       "M7R    1\n",
       "M4T    1\n",
       "M1E    1\n",
       "M1L    1\n",
       "M9W    1\n",
       "M5B    1\n",
       "M4R    1\n",
       "M5H    1\n",
       "M3K    1\n",
       "M9B    1\n",
       "M4W    1\n",
       "M4B    1\n",
       "M1S    1\n",
       "M1J    1\n",
       "M2N    1\n",
       "M4X    1\n",
       "M6J    1\n",
       "M1T    1\n",
       "M9C    1\n",
       "M5W    1\n",
       "M6E    1\n",
       "M6H    1\n",
       "M1V    1\n",
       "M8X    1\n",
       "M7Y    1\n",
       "M1W    1\n",
       "M4L    1\n",
       "M4C    1\n",
       "M6L    1\n",
       "M5J    1\n",
       "M4S    1\n",
       "M5P    1\n",
       "M3A    1\n",
       "M5C    1\n",
       "M4G    1\n",
       "M6C    1\n",
       "M6R    1\n",
       "M2R    1\n",
       "M9N    1\n",
       "M8V    1\n",
       "M9A    1\n",
       "M9L    1\n",
       "M6S    1\n",
       "M4H    1\n",
       "M1K    1\n",
       "M1X    1\n",
       "M6M    1\n",
       "M4P    1\n",
       "M4J    1\n",
       "M6N    1\n",
       "M3N    1\n",
       "M7A    1\n",
       "M6K    1\n",
       "M3L    1\n",
       "M5G    1\n",
       "M5X    1\n",
       "M6A    1\n",
       "M2P    1\n",
       "M8W    1\n",
       "M5V    1\n",
       "M3B    1\n",
       "M1B    1\n",
       "M4N    1\n",
       "M6G    1\n",
       "M6B    1\n",
       "M2L    1\n",
       "M5N    1\n",
       "M5R    1\n",
       "M1R    1\n",
       "M1G    1\n",
       "M1H    1\n",
       "M3H    1\n",
       "M2M    1\n",
       "M5T    1\n",
       "M2J    1\n",
       "M3C    1\n",
       "M4V    1\n",
       "M3M    1\n",
       "M6P    1\n",
       "M4K    1\n",
       "M5S    1\n",
       "M1C    1\n",
       "M4A    1\n",
       "M5K    1\n",
       "M9M    1\n",
       "M4Y    1\n",
       "M5L    1\n",
       "M5E    1\n",
       "M8Y    1\n",
       "Name: Postal code, dtype: int64"
      ]
     },
     "execution_count": 27,
     "metadata": {},
     "output_type": "execute_result"
    }
   ],
   "source": [
    "dftable['Postal code'].value_counts()"
   ]
  },
  {
   "cell_type": "code",
   "execution_count": 29,
   "metadata": {},
   "outputs": [
    {
     "data": {
      "text/plain": [
       "(103, 3)"
      ]
     },
     "execution_count": 29,
     "metadata": {},
     "output_type": "execute_result"
    }
   ],
   "source": [
    "dftable.shape"
   ]
  },
  {
   "cell_type": "code",
   "execution_count": null,
   "metadata": {},
   "outputs": [],
   "source": []
  }
 ],
 "metadata": {
  "kernelspec": {
   "display_name": "Python 3",
   "language": "python",
   "name": "python3"
  },
  "language_info": {
   "codemirror_mode": {
    "name": "ipython",
    "version": 3
   },
   "file_extension": ".py",
   "mimetype": "text/x-python",
   "name": "python",
   "nbconvert_exporter": "python",
   "pygments_lexer": "ipython3",
   "version": "3.7.4"
  }
 },
 "nbformat": 4,
 "nbformat_minor": 4
}
