{
 "cells": [
  {
   "cell_type": "markdown",
   "metadata": {},
   "source": [
    "## Studying feasibility of Italian restaurants and properties in New Yok"
   ]
  },
  {
   "cell_type": "markdown",
   "metadata": {},
   "source": [
    "### Introduction / Problem statement"
   ]
  },
  {
   "cell_type": "markdown",
   "metadata": {},
   "source": [
    "New York City (NYC), often called The City or simply New York (NY) is the most populous city in the United States. With an estimated 2019 population of 8,336,817 distributed over about 302.6 square miles (784 km2), New York is also the most densely populated major city in the United States. Located at the southern tip of the U.S. state of New York, the city is the center of the New York metropolitan area, the largest metropolitan area in the world by urban landmass.\n",
    "\n",
    "New York has been called “the Italian American capital” because it is home to the largest Italian American population in the U.S.  There are Italian communities in all five boroughs of the city, most with deep roots in their area.  Italians helped build the modern city and have made a profound impact on NYC’s arts, politics, dialect, and, of course, cuisine.  Italian food is a staple of the NYC diet…I mean, what’s more quintessential New York than its pizza?\n",
    "\n",
    "With it's diverse culture , comes diverse food items. There are many resturants in New york City, each beloning to different categories like Italian, Chinese etc.\n",
    "We all have must see the famous movie The God Father and we are well aware with the character of Vito Corleone. I am point him here just to strengthen my assertion about foregin population and the scope generated in business specific to the migrant population.  \n",
    "\n",
    "I think the above arguments are enough that we can create a model to help people to setup some business like restaurants specific to Italian people or there can also be some specific neighborhoods which are favourite for Italian people. Hence in this solution we are trying to solve these two problem statements as eventually if an area has option of Italian food then it attaract more Italian people to live in the region."
   ]
  },
  {
   "cell_type": "markdown",
   "metadata": {},
   "source": [
    "### Data \n",
    "For this project we need the following data :\n",
    "<ul>\n",
    "<li> New York City data that contains list Boroughs, Neighborhoods along with their latitude and longitude.\n",
    "    <ul>\n",
    "        <li>Data source : https://cocl.us/new_york_dataset\n",
    "        <li> Description : This data set contains the required information. And we will use this data set to explore various neighborhoods of New York City.\n",
    "     </ul>\n",
    "<li> Italian resturants in each neighborhood of New York City.\n",
    "        <ul>\n",
    "        <li>Data source : Fousquare API\n",
    "        <li> Description : By using this api we will get all the venues in each neighborhood. We can filter these venues to get only Italian resturants.\n",
    "     </ul>\n",
    "<li> GeoSpace data\n",
    "          <ul>\n",
    "        <li>Data source : https://data.cityofnewyork.us/City-Government/Borough-Boundaries/tqmj-j8zm\n",
    "        <li> Description : By using this geo space data we will get the New york Borough boundaries that will help us visualize choropleth map.\n",
    "  \n",
    "</ul>"
   ]
  },
  {
   "cell_type": "markdown",
   "metadata": {},
   "source": [
    "### Approach\n",
    "<ul>\n",
    "<li> Prepare a dataframe of the New York City data from https://cocl.us/new_york_dataset\n",
    "<li> Using FourSquare API we will find all venues for each neighborhood.\n",
    "<li> Filter out all venues that are Italian resturants.\n",
    "<li> Using rating for each resturant , we will sort that data.\n",
    "<li> Visualize the Ranking of neighborhoods using folium library.\n",
    "</ul>"
   ]
  }
 ],
 "metadata": {
  "kernelspec": {
   "display_name": "Python 3",
   "language": "python",
   "name": "python3"
  },
  "language_info": {
   "codemirror_mode": {
    "name": "ipython",
    "version": 3
   },
   "file_extension": ".py",
   "mimetype": "text/x-python",
   "name": "python",
   "nbconvert_exporter": "python",
   "pygments_lexer": "ipython3",
   "version": "3.7.4"
  }
 },
 "nbformat": 4,
 "nbformat_minor": 4
}
